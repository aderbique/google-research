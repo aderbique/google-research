{
 "cells": [
  {
   "cell_type": "markdown",
   "metadata": {
    "colab_type": "text",
    "id": "yAq6aHVh5oCH"
   },
   "source": [
    "**Copyright 2020 Google LLC.**\n",
    "\n",
    "Licensed under the Apache License, Version 2.0 (the \"License\"); you may not use this file except in compliance with the License. You may obtain a copy of the License at\n",
    "\n",
    "https://www.apache.org/licenses/LICENSE-2.0\n",
    "\n",
    "Unless required by applicable law or agreed to in writing, software distributed under the License is distributed on an \"AS IS\" BASIS, WITHOUT WARRANTIES OR CONDITIONS OF ANY KIND, either express or implied. See the License for the specific language governing permissions and limitations under the License."
   ]
  },
  {
   "cell_type": "code",
   "execution_count": 1,
   "metadata": {
    "colab": {},
    "colab_type": "code",
    "id": "VpEpTFph2ysp"
   },
   "outputs": [],
   "source": [
    "from __future__ import division\n",
    "import pandas as pd\n",
    "import numpy as np\n",
    "import json\n",
    "import os,sys\n",
    "import seaborn as sns\n",
    "import matplotlib.pyplot as plt\n",
    "from sklearn.model_selection import train_test_split\n",
    "import numpy as np"
   ]
  },
  {
   "cell_type": "markdown",
   "metadata": {
    "colab_type": "text",
    "id": "F-u1ecNmMiX3"
   },
   "source": [
    "## Overview\n",
    "\n",
    "### Pre-processes COMPAS dataset:\n",
    "\n",
    "Download the COMPAS dataset from:\n",
    "https://github.com/propublica/compas-analysis/blob/master/compas-scores-two-years.csv\n",
    "and save it in the `./group_agnostic_fairness/data/compas` folder.\n",
    "\n",
    "Input: ./group_agnostic_fairness/data/compas/compas-scores-two-years.csv\n",
    "\n",
    "Outputs: train.csv, test.csv, mean_std.json, vocabulary.json, IPS_exampleweights_with_label.json, IPS_exampleweights_without_label.json"
   ]
  },
  {
   "cell_type": "code",
   "execution_count": 2,
   "metadata": {
    "colab": {},
    "colab_type": "code",
    "id": "oyFyRbFk7zox"
   },
   "outputs": [
    {
     "name": "stdout",
     "output_type": "stream",
     "text": [
      "0\n"
     ]
    }
   ],
   "source": [
    "import os\n",
    "print(os.system(\"pwd\"))\n",
    "pd.options.display.float_format = '{:,.2f}'.format\n",
    "dataset_base_dir = '../../group_agnostic_fairness/data/compas/'\n",
    "dataset_file_name = 'compas-scores-two-years.csv'"
   ]
  },
  {
   "cell_type": "markdown",
   "metadata": {
    "colab_type": "text",
    "id": "PgWxzZeyKog3"
   },
   "source": [
    "### Processing original dataset"
   ]
  },
  {
   "cell_type": "code",
   "execution_count": 3,
   "metadata": {
    "colab": {},
    "colab_type": "code",
    "id": "kL3-NykBQhKz"
   },
   "outputs": [],
   "source": [
    "file_path = os.path.join(dataset_base_dir,dataset_file_name)\n",
    "with open(file_path, \"r\") as file_name:\n",
    "  temp_df = pd.read_csv(file_name)\n",
    "\n",
    "# Columns of interest\n",
    "columns = ['juv_fel_count', 'juv_misd_count', 'juv_other_count', 'priors_count',\n",
    "                'age', \n",
    "                'c_charge_degree', \n",
    "                'c_charge_desc',\n",
    "                'age_cat',\n",
    "                'sex', 'race',  'is_recid']\n",
    "target_variable = 'is_recid'\n",
    "target_value = 'Yes'\n",
    "\n",
    "# Drop duplicates\n",
    "temp_df = temp_df[['id']+columns].drop_duplicates()\n",
    "df = temp_df[columns].copy()\n",
    "\n",
    "# Convert columns of type ``object`` to ``category`` \n",
    "df = pd.concat([\n",
    "        df.select_dtypes(include=[], exclude=['object']),\n",
    "        df.select_dtypes(['object']).apply(pd.Series.astype, dtype='category')\n",
    "        ], axis=1).reindex(df.columns, axis=1)\n",
    "\n",
    "# Binarize target_variable\n",
    "df['is_recid'] = df.apply(lambda x: 'Yes' if x['is_recid']==1.0 else 'No', axis=1).astype('category')\n",
    "\n",
    "# Process protected-column values\n",
    "race_dict = {'African-American':'Black','Caucasian':'White'}\n",
    "df['race'] = df.apply(lambda x: race_dict[x['race']] if x['race'] in race_dict.keys() else 'Other', axis=1).astype('category')"
   ]
  },
  {
   "cell_type": "code",
   "execution_count": 4,
   "metadata": {
    "colab": {
     "height": 204
    },
    "colab_type": "code",
    "id": "XCClI7O8ZHTi",
    "outputId": "bb0568b5-1338-4286-9182-7f0ff23fc18c"
   },
   "outputs": [
    {
     "data": {
      "text/html": [
       "<div>\n",
       "<style scoped>\n",
       "    .dataframe tbody tr th:only-of-type {\n",
       "        vertical-align: middle;\n",
       "    }\n",
       "\n",
       "    .dataframe tbody tr th {\n",
       "        vertical-align: top;\n",
       "    }\n",
       "\n",
       "    .dataframe thead th {\n",
       "        text-align: right;\n",
       "    }\n",
       "</style>\n",
       "<table border=\"1\" class=\"dataframe\">\n",
       "  <thead>\n",
       "    <tr style=\"text-align: right;\">\n",
       "      <th></th>\n",
       "      <th>juv_fel_count</th>\n",
       "      <th>juv_misd_count</th>\n",
       "      <th>juv_other_count</th>\n",
       "      <th>priors_count</th>\n",
       "      <th>age</th>\n",
       "      <th>c_charge_degree</th>\n",
       "      <th>c_charge_desc</th>\n",
       "      <th>age_cat</th>\n",
       "      <th>sex</th>\n",
       "      <th>race</th>\n",
       "      <th>is_recid</th>\n",
       "    </tr>\n",
       "  </thead>\n",
       "  <tbody>\n",
       "    <tr>\n",
       "      <th>0</th>\n",
       "      <td>0</td>\n",
       "      <td>0</td>\n",
       "      <td>0</td>\n",
       "      <td>0</td>\n",
       "      <td>69</td>\n",
       "      <td>F</td>\n",
       "      <td>Aggravated Assault w/Firearm</td>\n",
       "      <td>Greater than 45</td>\n",
       "      <td>Male</td>\n",
       "      <td>Other</td>\n",
       "      <td>No</td>\n",
       "    </tr>\n",
       "    <tr>\n",
       "      <th>1</th>\n",
       "      <td>0</td>\n",
       "      <td>0</td>\n",
       "      <td>0</td>\n",
       "      <td>0</td>\n",
       "      <td>34</td>\n",
       "      <td>F</td>\n",
       "      <td>Felony Battery w/Prior Convict</td>\n",
       "      <td>25 - 45</td>\n",
       "      <td>Male</td>\n",
       "      <td>Black</td>\n",
       "      <td>Yes</td>\n",
       "    </tr>\n",
       "    <tr>\n",
       "      <th>2</th>\n",
       "      <td>0</td>\n",
       "      <td>0</td>\n",
       "      <td>1</td>\n",
       "      <td>4</td>\n",
       "      <td>24</td>\n",
       "      <td>F</td>\n",
       "      <td>Possession of Cocaine</td>\n",
       "      <td>Less than 25</td>\n",
       "      <td>Male</td>\n",
       "      <td>Black</td>\n",
       "      <td>Yes</td>\n",
       "    </tr>\n",
       "    <tr>\n",
       "      <th>3</th>\n",
       "      <td>0</td>\n",
       "      <td>1</td>\n",
       "      <td>0</td>\n",
       "      <td>1</td>\n",
       "      <td>23</td>\n",
       "      <td>F</td>\n",
       "      <td>Possession of Cannabis</td>\n",
       "      <td>Less than 25</td>\n",
       "      <td>Male</td>\n",
       "      <td>Black</td>\n",
       "      <td>No</td>\n",
       "    </tr>\n",
       "    <tr>\n",
       "      <th>4</th>\n",
       "      <td>0</td>\n",
       "      <td>0</td>\n",
       "      <td>0</td>\n",
       "      <td>2</td>\n",
       "      <td>43</td>\n",
       "      <td>F</td>\n",
       "      <td>arrest case no charge</td>\n",
       "      <td>25 - 45</td>\n",
       "      <td>Male</td>\n",
       "      <td>Other</td>\n",
       "      <td>No</td>\n",
       "    </tr>\n",
       "  </tbody>\n",
       "</table>\n",
       "</div>"
      ],
      "text/plain": [
       "   juv_fel_count  juv_misd_count  juv_other_count  priors_count  age  \\\n",
       "0              0               0                0             0   69   \n",
       "1              0               0                0             0   34   \n",
       "2              0               0                1             4   24   \n",
       "3              0               1                0             1   23   \n",
       "4              0               0                0             2   43   \n",
       "\n",
       "  c_charge_degree                   c_charge_desc          age_cat   sex  \\\n",
       "0               F    Aggravated Assault w/Firearm  Greater than 45  Male   \n",
       "1               F  Felony Battery w/Prior Convict          25 - 45  Male   \n",
       "2               F           Possession of Cocaine     Less than 25  Male   \n",
       "3               F          Possession of Cannabis     Less than 25  Male   \n",
       "4               F           arrest case no charge          25 - 45  Male   \n",
       "\n",
       "    race is_recid  \n",
       "0  Other       No  \n",
       "1  Black      Yes  \n",
       "2  Black      Yes  \n",
       "3  Black       No  \n",
       "4  Other       No  "
      ]
     },
     "execution_count": 4,
     "metadata": {},
     "output_type": "execute_result"
    }
   ],
   "source": [
    "df.head()"
   ]
  },
  {
   "cell_type": "markdown",
   "metadata": {
    "colab_type": "text",
    "id": "zKNj_ZV2K_09"
   },
   "source": [
    "### Shuffle and Split into Train (70%) and Test set (30%)"
   ]
  },
  {
   "cell_type": "code",
   "execution_count": 5,
   "metadata": {
    "colab": {},
    "colab_type": "code",
    "id": "0ZLM1kXLz3PI"
   },
   "outputs": [],
   "source": [
    "train_df, test_df = train_test_split(df, test_size=0.30, random_state=42)\n",
    "\n",
    "output_file_path = os.path.join(dataset_base_dir,'train.csv')\n",
    "with open(output_file_path, mode=\"w\") as output_file:\n",
    "    train_df.to_csv(output_file,index=False,columns=columns,header=False)\n",
    "    output_file.close()\n",
    "\n",
    "output_file_path = os.path.join(dataset_base_dir,'test.csv')\n",
    "with open(output_file_path, mode=\"w\") as output_file:\n",
    "    test_df.to_csv(output_file,index=False,columns=columns,header=False)\n",
    "    output_file.close()"
   ]
  },
  {
   "cell_type": "markdown",
   "metadata": {
    "colab_type": "text",
    "id": "1VQE85STLL46"
   },
   "source": [
    "### Computing Invese propensity weights for each subgroup, and writes to directory.\n",
    "\n",
    "IPS_example_weights_with_label.json: json dictionary of the format\n",
    "        {subgroup_id : inverse_propensity_score,...}. Used by IPS_reweighting_model approach."
   ]
  },
  {
   "cell_type": "code",
   "execution_count": 6,
   "metadata": {
    "colab": {
     "height": 34
    },
    "colab_type": "code",
    "id": "2fkieHul02TL",
    "outputId": "9aa901d9-b832-4b89-edab-e3521d5c7217"
   },
   "outputs": [
    {
     "name": "stdout",
     "output_type": "stream",
     "text": [
      "{0: 2.595886889460154, 1: 9.709615384615384, 2: 2.3974358974358974, 3: 10.56276150627615}\n"
     ]
    }
   ],
   "source": [
    "IPS_example_weights_without_label = {\n",
    "  0: (len(train_df))/(len(train_df[(train_df.race != 'Black') & (train_df.sex != 'Female')])), # 00: White Male\n",
    "  1: (len(train_df))/(len(train_df[(train_df.race != 'Black') & (train_df.sex == 'Female')])), # 01: White Female\n",
    "  2: (len(train_df))/(len(train_df[(train_df.race == 'Black') & (train_df.sex != 'Female')])), # 10: Black Male\n",
    "  3: (len(train_df))/(len(train_df[(train_df.race == 'Black') & (train_df.sex == 'Female')]))  # 11: Black Female\n",
    "}\n",
    "  \n",
    "output_file_path = os.path.join(dataset_base_dir,'IPS_example_weights_without_label.json')\n",
    "with open(output_file_path, mode=\"w\") as output_file:\n",
    "    output_file.write(json.dumps(IPS_example_weights_without_label))\n",
    "    output_file.close()\n",
    "\n",
    "print(IPS_example_weights_without_label)"
   ]
  },
  {
   "cell_type": "code",
   "execution_count": 7,
   "metadata": {
    "colab": {
     "height": 34
    },
    "colab_type": "code",
    "id": "Dm15uo-R0-LB",
    "outputId": "2619a7d0-d079-43c9-cee6-d9eeb3ad4ce4"
   },
   "outputs": [
    {
     "name": "stdout",
     "output_type": "stream",
     "text": [
      "{0: 4.598360655737705, 1: 15.162162162162161, 2: 5.744027303754266, 3: 18.03214285714286, 4: 5.961038961038961, 5: 27.0, 6: 4.114914425427873, 7: 25.5}\n"
     ]
    }
   ],
   "source": [
    "IPS_example_weights_with_label = {\n",
    "0: (len(train_df))/(len(train_df[(train_df[target_variable] != target_value) & (train_df.race != 'Black') & (train_df.sex != 'Female')])), # 000: Negative White Male\n",
    "1: (len(train_df))/(len(train_df[(train_df[target_variable] != target_value) & (train_df.race != 'Black') & (train_df.sex == 'Female')])), # 001: Negative White Female\n",
    "2: (len(train_df))/(len(train_df[(train_df[target_variable] != target_value) & (train_df.race == 'Black') & (train_df.sex != 'Female')])), # 010: Negative Black Male\n",
    "3: (len(train_df))/(len(train_df[(train_df[target_variable] != target_value) & (train_df.race == 'Black') & (train_df.sex == 'Female')])), # 011: Negative Black Female\n",
    "4: (len(train_df))/(len(train_df[(train_df[target_variable] == target_value) & (train_df.race != 'Black') & (train_df.sex != 'Female')])), # 100: Positive White Male\n",
    "5: (len(train_df))/(len(train_df[(train_df[target_variable] == target_value) & (train_df.race != 'Black') & (train_df.sex == 'Female')])), # 101: Positive White Female\n",
    "6: (len(train_df))/(len(train_df[(train_df[target_variable] == target_value) & (train_df.race == 'Black') & (train_df.sex != 'Female')])), # 110: Positive Black Male\n",
    "7: (len(train_df))/(len(train_df[(train_df[target_variable] == target_value) & (train_df.race == 'Black') & (train_df.sex == 'Female')])), # 111: Positive Black Female\n",
    "}\n",
    "  \n",
    "output_file_path = os.path.join(dataset_base_dir,'IPS_example_weights_with_label.json')\n",
    "with open(output_file_path, mode=\"w\") as output_file:\n",
    "    output_file.write(json.dumps(IPS_example_weights_with_label))\n",
    "    output_file.close()\n",
    "\n",
    "print(IPS_example_weights_with_label)"
   ]
  },
  {
   "cell_type": "markdown",
   "metadata": {
    "colab_type": "text",
    "id": "8SQc7h9HLcSc"
   },
   "source": [
    "### Construct vocabulary.json, and write to directory.\n",
    "\n",
    "vocabulary.json: json dictionary of the format {feature_name:      [feature_vocabulary]}, containing vocabulary for categorical features."
   ]
  },
  {
   "cell_type": "code",
   "execution_count": 8,
   "metadata": {
    "colab": {
     "height": 54
    },
    "colab_type": "code",
    "id": "YIebJG2YfMpv",
    "outputId": "2a03258b-c31e-47ce-a282-4f4168f8ca65"
   },
   "outputs": [
    {
     "name": "stdout",
     "output_type": "stream",
     "text": [
      "{'c_charge_degree': ['M', 'F'], 'c_charge_desc': ['Possess Controlled Substance', 'Criminal Mischief>$200<$1000', 'Dealing In Stolen Property', 'False Bomb Report', 'Poss Similitude of Drivers Lic', 'Accessory After the Fact', 'Sex Batt Faml/Cust Vict 12-17Y', 'Offer Agree Secure For Lewd Act', 'Felon in Pos of Firearm or Amm', 'Poss of Vessel w/Altered ID NO', 'Att Tamper w/Physical Evidence', 'Viol Injunct Domestic Violence', 'Att Burgl Struc/Conv Dwel/Occp', 'Alcoholic Beverage Violation-FL', 'Theft', 'Burglary Dwelling Occupied', 'Robbery / Weapon', 'Solicit To Deliver Cocaine', 'Computer Pornography', 'Del Morphine at/near Park', 'Ride Tri-Rail Without Paying', 'Carry Open/Uncov Bev In Pub', 'Poss of Firearm by Convic Felo', 'Aggrav Child Abuse-Causes Harm', 'Grand Theft Firearm', 'Burglary Dwelling Assault/Batt', 'False Motor Veh Insurance Card', 'Poss of Cocaine W/I/D/S 1000FT Park', 'Possess/Use Weapon 1 Deg Felon', 'Poss Oxycodone W/Int/Sell/Del', 'Agg Abuse Elderlly/Disabled Adult', 'Possess Weapon On School Prop', 'Attempted Deliv Control Subst', 'Delivery of 5-Fluoro PB-22', 'Possession Of Methamphetamine', 'Unlaw Lic Use/Disply Of Others', 'DUI - Enhanced', 'Poss Wep Conv Felon', 'Resist/Obstruct W/O Violence', 'Del of JWH-250 2-Methox 1-Pentyl', 'Resist Officer w/Violence', 'Poss Unlaw Issue Id', 'Poss Of Controlled Substance', 'Burglary Assault/Battery Armed', 'Fleeing or Eluding a LEO', 'Hiring with Intent to Defraud', 'Criminal Mischief', 'Grand Theft (Motor Vehicle)', 'Counterfeit Lic Plates/Sticker', 'Grand Theft Dwell Property', 'Poss Of RX Without RX', 'Possession of Methadone', 'Neglect/Abuse Elderly Person', 'Agg Fleeing/Eluding High Speed', 'Poss 3,4 MDMA (Ecstasy)', 'Failure To Return Hired Vehicle', 'Forging Bank Bills/Promis Note', 'Attempt Burglary (Struct)', 'Petit Theft $100- $300', 'Disorderly Conduct', 'Introduce Contraband Into Jail', 'Aggrav Battery w/Deadly Weapon', 'Carjacking with a Firearm', 'Falsely Impersonating Officer', 'Purchase Cannabis', 'Sell or Offer for Sale Counterfeit Goods', 'Grand Theft (motor Vehicle)', 'Aggravated Battery (Firearm)', 'Principal In The First Degree', 'Consume Alcoholic Bev Pub', 'Cruelty Toward Child', 'Poss3,4 Methylenedioxymethcath', 'Refuse Submit Blood/Breath Test', 'Felony Battery (Dom Strang)', 'Battery', 'Poss Alprazolam W/int Sell/Del', 'Burgl Dwel/Struct/Convey Armed', 'Failure To Pay Taxi Cab Charge', 'Fraud Obtain Food or Lodging', 'Unlawful Use Of Police Badges', 'Harm Public Servant Or Family', 'Felony DUI (level 3)', 'Possession Burglary Tools', 'D.U.I. Serious Bodily Injury', 'Carrying Concealed Firearm', 'Trespass Structure/Conveyance', 'Possession of Benzylpiperazine', 'Fabricating Physical Evidence', 'Violation License Restrictions', 'Possession Of Lorazepam', 'Deliver Cocaine 1000FT Park', 'Aiding Escape', 'Fail Register Career Offender', 'arrest case no charge', 'Poss Unlaw Issue Driver Licenc', 'Burglary Unoccupied Dwelling', 'Present Proof of Invalid Insur', 'Oper Motorcycle W/O Valid DL', 'Del Cannabis For Consideration', 'Possession of Alcohol Under 21', 'Arson in the First Degree', 'Grand Theft of a Fire Extinquisher', 'Aggravated Battery (Firearm/Actual Possession)', 'Murder in 2nd Degree', 'Prostitution/Lewd Act Assignation', 'Traffic Counterfeit Cred Cards', 'Possession Of Clonazepam', 'Poss Contr Subst W/o Prescript', 'Burglary Conveyance Unoccup', 'Battery on Law Enforc Officer', 'Crlty Twrd Child Urge Oth Act', 'Deliver Cocaine 1000FT Store', 'Murder in the First Degree', 'Aggravated Battery', 'Bribery Athletic Contests', 'Felony Committing Prostitution', 'Felony Battery w/Prior Convict', 'Possession Of Anabolic Steroid', 'Trans/Harm/Material to a Minor', 'Gambling/Gamb Paraphernalia', 'Possession of Ethylone', 'Operating W/O Valid License', 'Robbery Sudd Snatch No Weapon', 'Traffick Oxycodone     4g><14g', 'Possess w/I/Utter Forged Bills', 'Retail Theft $300 2nd Offense', 'Unl/Disturb Education/Instui', 'DUI- Enhanced', 'Possession Of Buprenorphine', 'Possession of LSD', 'Escape', 'Crim Attempt/Solic/Consp', 'Poss Tetrahydrocannabinols', 'Littering', 'Sex Offender Fail Comply W/Law', 'Prowling/Loitering', 'Possession of Cannabis', 'Posses/Disply Susp/Revk/Frd DL', 'Dealing in Stolen Property', 'Sale/Del Counterfeit Cont Subs', 'Aggravated Assault W/Dead Weap', 'Aggrav Stalking After Injunctn', 'Att Burgl Conv Occp', 'Poss Pyrrolidinobutiophenone', 'Exploit Elderly Person 20-100K', 'Battery on a Person Over 65', 'Possession Of Cocaine', 'Lewd/Lasciv Molest Elder Persn', 'Murder In 2nd Degree W/firearm', 'Felony Driving While Lic Suspd', 'Sexual Battery / Vict 12 Yrs +', 'Strong Armed  Robbery', 'Stalking (Aggravated)', 'Lve/Scen/Acc/Veh/Prop/Damage', 'Possession Of Fentanyl', 'Robbery W/Deadly Weapon', 'False Ownership Info/Pawn Item', 'Fail To Redeliver Hire Prop', 'Poss/Sell/Deliver Clonazepam', 'Felony Batt(Great Bodily Harm)', 'Susp Drivers Lic 1st Offense', 'Fighting/Baiting Animals', 'Pos Methylenedioxymethcath W/I/D/S', 'Lewd or Lascivious Molestation', 'Possess Drug Paraphernalia', 'Viol Prot Injunc Repeat Viol', 'Felony/Driving Under Influence', 'Poss Cocaine/Intent To Del/Sel', 'Fail Register Vehicle', 'Use Of 2 Way Device To Fac Fel', 'Culpable Negligence', 'Interfere W/Traf Cont Dev RR', 'Burglary Conveyance Occupied', 'Stalking', 'DWI w/Inj Susp Lic / Habit Off', 'Criminal Attempt 3rd Deg Felon', 'Possession of Butylone', 'Unauth Poss ID Card or DL', 'Throw In Occupied Dwell', 'Attempted Burg/struct/unocc', 'Lewd Act Presence Child 16-', 'Possession Child Pornography', 'Sell/Man/Del Pos/w/int Heroin', 'Fel Drive License Perm Revoke', 'Obstruct Fire Equipment', 'Poss Meth/Diox/Meth/Amp (MDMA)', 'Driving While License Revoked', 'Burglary Structure Occupied', 'Traff In Cocaine <400g>150 Kil', 'Fail Sex Offend Report Bylaw', 'Lease For Purpose Trafficking', 'Agg Assault W/int Com Fel Dome', 'Shoot In Occupied Dwell', 'Cause Anoth Phone Ring Repeat', 'Deliver Cocaine 1000FT Church', 'False Imprisonment', 'Opert With Susp DL 2ND Offense', 'Possession of XLR11', 'Defrauding Innkeeper $300/More', 'Poss Pyrrolidinovalerophenone W/I/D/S', 'Flee/Elude LEO-Agg Flee Unsafe', 'Interference with Custody', 'Uttering Worthless Check +$150', 'Crim Use Of Personal Id Info', 'Agg Battery Grt/Bod/Harm', 'Refuse to Supply DNA Sample', 'Purchase Of Cocaine', 'Sell Cannabis', 'Aggravated Battery / Pregnant', 'Unemployment Compensatn Fraud', 'Reckless Driving', 'Attempted Robbery  Weapon', 'Fraudulent Use of Credit Card', 'Battery Spouse Or Girlfriend', 'Carjacking w/o Deadly Weapon', 'Voyeurism', 'Unlicensed Telemarketing', 'Petit Theft', 'Prostitution/Lewdness/Assign', 'Pos Cannabis For Consideration', 'Retail Theft $300 1st Offense', 'Use of Anti-Shoplifting Device', 'Possession Of Alprazolam', 'Carrying A Concealed Weapon', 'Compulsory Sch Attnd Violation', 'False Info LEO During Invest', 'Sale/Del Cannabis At/Near Scho', 'Poss Counterfeit Payment Inst', 'Grand Theft In The 3Rd Degree', 'Neglect Child / No Bodily Harm', 'Lewdness Violation', 'Soliciting For Prostitution', 'Insurance Fraud', 'Leaving the Scene of Accident', 'Battery On Parking Enfor Speci', 'Aggr Child Abuse-Torture,Punish', 'Fleeing Or Attmp Eluding A Leo', 'DUI/Property Damage/Persnl Inj', 'Felony DUI - Enhanced', 'Possess Tobacco Product Under 18', 'Throw Deadly Missile Into Veh', 'Issuing a Worthless Draft', 'Conspiracy to Deliver Cocaine', 'DUI - Property Damage/Personal Injury', 'Neglect Child / Bodily Harm', 'Offer Agree Secure/Lewd Act', 'Restraining Order Dating Viol', 'Aggress/Panhandle/Beg/Solict', 'Grand Theft on 65 Yr or Older', 'Attempted Robbery  No Weapon', 'Driving Under The Influence', 'Tresspass in Structure or Conveyance', 'Aggravated Assault w/Firearm', 'Giving False Crime Report', 'Depriv LEO of Protect/Communic', 'Poss F/Arm Delinq', 'Burglary With Assault/battery', 'Drivg While Lic Suspd/Revk/Can', 'Grand Theft in the 3rd Degree', 'Compulsory Attendance Violation', 'Attempt Armed Burglary Dwell', 'Exposes Culpable Negligence', 'Del Cannabis At/Near Park', 'Contradict Statement', 'Attempted Burg/Convey/Unocc', 'Battery On Fire Fighter', 'Solicit Deliver Cocaine', 'DUI Property Damage/Injury', 'Traffick Hydrocodone   4g><14g', 'Leaving Acc/Unattended Veh', 'Abuse Without Great Harm', 'Possess Cannabis/20 Grams Or Less', 'Cash Item w/Intent to Defraud', 'Crim Attempt/Solicit/Consp', 'Possession of Cocaine', 'Aggrav Child Abuse-Agg Battery', 'Open Carrying Of Weapon', 'Poss Firearm W/Altered ID#', 'Attempted Robbery Firearm', 'Possession Of Heroin', 'Possession of Morphine', 'Possess Cannabis 1000FTSch', 'Agg Assault Law Enforc Officer', 'Possession Of Paraphernalia', 'Trespass Struct/Convey Occupy', 'Possession Of 3,4Methylenediox', 'Aggravated Battery On 65/Older', 'Violation Of Boater Safety Id', 'Manufacture Cannabis', 'DUI Blood Alcohol Above 0.20', 'Solic to Commit Battery', 'Possession of Hydromorphone', 'Uttering Forged Credit Card', 'Armed Trafficking in Cannabis', 'Fail To Obey Police Officer', 'Tampering With Physical Evidence', 'Uttering a Forged Instrument', 'Aide/Abet Prostitution Lewdness', 'Solicitation On Felony 3 Deg', 'Shoot Into Vehicle', 'Obtain Control Substance By Fraud', 'Viol Injunction Protect Dom Vi', 'Poss Anti-Shoplifting Device', 'Theft/To Deprive', 'Poss/Sell/Del Cocaine 1000FT Sch', 'Extradition/Defendants', 'Del 3,4 Methylenedioxymethcath', 'Att Burgl Unoccupied Dwel', 'Burglary Structure Assault/Batt', 'Crim Use of Personal ID Info', 'Grand Theft of the 2nd Degree', 'Video Voyeur-<24Y on Child >16', 'Child Abuse', 'Sel/Pur/Mfr/Del Control Substa', 'Lewd/Lasc Exhib Presence <16yr', 'Manage Busn W/O City Occup Lic', 'Harass Witness/Victm/Informnt', 'Prostitution', 'Trespass Property w/Dang Weap', 'Corrupt Public Servant', 'Delivery of Heroin', 'PL/Unlaw Use Credit Card', 'Deliver 3,4 Methylenediox', 'Robbery W/Firearm', 'Assault Law Enforcement Officer', 'False Name By Person Arrest', 'Simulation of Legal Process', 'Traffick Amphetamine 28g><200g', 'Fail To Redeliv Hire/Leas Prop', 'Driving License Suspended', 'Trespassing/Construction Site', 'Possession of Hydrocodone', 'Criminal Mischief Damage <$200', 'Battery Emergency Care Provide', 'Poss Pyrrolidinovalerophenone', 'Uttering Forged Bills', 'Viol Pretrial Release Dom Viol', 'Poss of Methylethcathinone', 'Leave Accd/Attend Veh/Less $50', 'Sell Conterfeit Cont Substance', 'Unlaw Use False Name/Identity', 'Possess Countrfeit Credit Card', 'Burglary Conveyance Armed', 'Misuse Of 911 Or E911 System', 'Aggravated Assault W/o Firearm', 'DOC/Cause Public Danger', 'Purchase/P/W/Int Cannabis', 'Tamper With Witness/Victim/CI', 'Battery On A Person Over 65', 'Poss Of 1,4-Butanediol', 'Robbery / No Weapon', 'Fail Obey Driv Lic Restrictions', 'False 911 Call', 'Consp Traff Oxycodone 28g><30k', 'Deliver Cocaine 1000FT School', 'Arson II (Vehicle)', 'Crimin Mischief Damage $1000+', 'Sex Battery Deft 18+/Vict 11-', 'Deliver Alprazolam', 'Burglary Dwelling Armed', 'Possession of Oxycodone', 'Poss Cntrft Contr Sub w/Intent', 'Possess Mot Veh W/Alt Vin #', 'Trespass Structure w/Dang Weap', 'Deliver Cocaine', 'Threat Public Servant', 'Contribute Delinquency Of A Minor', 'License Suspended Revoked', 'Poss Drugs W/O A Prescription', 'Possession Of Diazepam', 'Sexual Performance by a Child', 'Solicit Purchase Cocaine', 'Tamper With Witness', 'Opert With Susp DL 2nd Offens', 'Intoxicated/Safety Of Another', 'Possession Of Phentermine', 'Throw Missile Into Pub/Priv Dw', 'Exhibition Weapon School Prop', 'Sound Articles Over 100', 'Possession Firearm School Prop', 'Poss/pur/sell/deliver Cocaine', 'Trespass Struct/Conveyance', 'Disorderly Intoxication', 'Sel Etc/Pos/w/Int Contrft Schd', 'Conspiracy Dealing Stolen Prop', 'DUI Level 0.15 Or Minor In Veh', 'Obstruct Officer W/Violence', 'Tresspass Struct/Conveyance', 'Disrupting School Function', 'Possession of Codeine', 'Purchasing Of Alprazolam', 'Deliver Cannabis 1000FTSch', 'Imperson Public Officer or Emplyee', 'DWLS Susp/Cancel Revoked', 'Manslaughter W/Weapon/Firearm', 'Leave Acc/Attend Veh/More $50', 'Lewd/Lasc Battery Pers 12+/<16', 'Agg Fleeing and Eluding', 'Tampering with a Victim', 'Money Launder 100K or More Dols', 'Violation of Injunction Order/Stalking/Cyberstalking', 'Unlaw LicTag/Sticker Attach', 'Tamper With Victim', 'Discharge Firearm From Vehicle', 'Defrauding Innkeeper', 'Grand Theft in the 1st Degree', 'Pos Cannabis W/Intent Sel/Del', 'Use Computer for Child Exploit', 'Possession Of Carisoprodol', 'Felony Battery', 'Trespass On School Grounds', 'Felony Petit Theft', 'Unauthorized Interf w/Railroad', 'Aggravated Assault W/dead Weap', 'Offn Against Intellectual Prop', 'Live on Earnings of Prostitute', 'Unauth C/P/S Sounds>1000/Audio', 'Assault', 'Burglary Structure Unoccup', 'DWLS Canceled Disqul 1st Off', 'Possession Of Amphetamine', 'Consp Traff Oxycodone  4g><14g', 'Aggravated Assault', 'Poss Trifluoromethylphenylpipe', 'Use Scanning Device to Defraud', 'Kidnapping / Domestic Violence', 'Trespass Private Property', 'Fail To Secure Load', 'Burglary Conveyance Assault/Bat', 'Delivery Of Drug Paraphernalia', 'Structuring Transactions', 'Unlawful Conveyance of Fuel', 'Trespass Other Struct/Conve', 'Deliver Cannabis', 'Poss/Sell/Del/Man Amobarbital', 'Expired DL More Than 6 Months', 'Cruelty to Animals'], 'age_cat': ['Less than 25', '25 - 45', 'Greater than 45'], 'sex': ['Male', 'Female'], 'race': ['Black', 'White', 'Other'], 'is_recid': ['No', 'Yes']}\n"
     ]
    }
   ],
   "source": [
    "cat_cols = train_df.select_dtypes(include='category').columns\n",
    "vocab_dict = {}\n",
    "for col in cat_cols:\n",
    "  vocab_dict[col] = list(set(train_df[col].cat.categories))\n",
    "  \n",
    "output_file_path = os.path.join(dataset_base_dir,'vocabulary.json')\n",
    "with open(output_file_path, mode=\"w\") as output_file:\n",
    "    output_file.write(json.dumps(vocab_dict))\n",
    "    output_file.close()\n",
    "print(vocab_dict)"
   ]
  },
  {
   "cell_type": "markdown",
   "metadata": {
    "colab_type": "text",
    "id": "V9cxiG9SLfk6"
   },
   "source": [
    "### Construct mean_std.json, and write to directory\n",
    "\n",
    "mean_std.json: json dictionary of the format feature_name: [mean, std]},\n",
    "containing mean and std for numerical features. "
   ]
  },
  {
   "cell_type": "code",
   "execution_count": 9,
   "metadata": {
    "colab": {
     "height": 54
    },
    "colab_type": "code",
    "id": "EjZvIZC6FMFm",
    "outputId": "d9ae1abd-d18f-486b-f067-c657b1420d97"
   },
   "outputs": [
    {
     "name": "stdout",
     "output_type": "stream",
     "text": [
      "{'juv_fel_count': [0.06971677559912855, 0.5014755752507987], 'juv_misd_count': [0.09368191721132897, 0.5172707491859172], 'juv_other_count': [0.10556545850663497, 0.4686557323312097], 'priors_count': [3.5094078035254506, 4.951584194970699], 'age': [34.93761140819964, 11.925808583868745]}\n"
     ]
    }
   ],
   "source": [
    "temp_dict = train_df.describe().to_dict()\n",
    "mean_std_dict = {}\n",
    "for key, value in temp_dict.items():\n",
    "  mean_std_dict[key] = [value['mean'],value['std']]\n",
    "\n",
    "output_file_path = os.path.join(dataset_base_dir,'mean_std.json')\n",
    "with open(output_file_path, mode=\"w\") as output_file:\n",
    "    output_file.write(json.dumps(mean_std_dict))\n",
    "    output_file.close()\n",
    "print(mean_std_dict)"
   ]
  },
  {
   "cell_type": "code",
   "execution_count": null,
   "metadata": {},
   "outputs": [],
   "source": []
  },
  {
   "cell_type": "code",
   "execution_count": null,
   "metadata": {},
   "outputs": [],
   "source": []
  }
 ],
 "metadata": {
  "colab": {
   "collapsed_sections": [],
   "name": "CreateCompasDatasetFiles.ipynb",
   "provenance": []
  },
  "kernelspec": {
   "display_name": "Python 3 (ipykernel)",
   "language": "python",
   "name": "python3"
  },
  "language_info": {
   "codemirror_mode": {
    "name": "ipython",
    "version": 3
   },
   "file_extension": ".py",
   "mimetype": "text/x-python",
   "name": "python",
   "nbconvert_exporter": "python",
   "pygments_lexer": "ipython3",
   "version": "3.6.15"
  }
 },
 "nbformat": 4,
 "nbformat_minor": 4
}
