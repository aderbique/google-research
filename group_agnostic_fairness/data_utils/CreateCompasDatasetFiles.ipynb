{
 "cells": [
  {
   "cell_type": "markdown",
   "metadata": {
    "colab_type": "text",
    "id": "yAq6aHVh5oCH"
   },
   "source": [
    "**Copyright 2020 Google LLC.**\n",
    "\n",
    "Licensed under the Apache License, Version 2.0 (the \"License\"); you may not use this file except in compliance with the License. You may obtain a copy of the License at\n",
    "\n",
    "https://www.apache.org/licenses/LICENSE-2.0\n",
    "\n",
    "Unless required by applicable law or agreed to in writing, software distributed under the License is distributed on an \"AS IS\" BASIS, WITHOUT WARRANTIES OR CONDITIONS OF ANY KIND, either express or implied. See the License for the specific language governing permissions and limitations under the License."
   ]
  },
  {
   "cell_type": "code",
   "execution_count": 13,
   "metadata": {
    "colab": {},
    "colab_type": "code",
    "id": "VpEpTFph2ysp"
   },
   "outputs": [],
   "source": [
    "from __future__ import division\n",
    "import pandas as pd\n",
    "import numpy as np\n",
    "import json\n",
    "import os,sys\n",
    "import seaborn as sns\n",
    "import matplotlib.pyplot as plt\n",
    "from sklearn.model_selection import train_test_split\n",
    "import numpy as np"
   ]
  },
  {
   "cell_type": "markdown",
   "metadata": {
    "colab_type": "text",
    "id": "F-u1ecNmMiX3"
   },
   "source": [
    "## Overview\n",
    "\n",
    "### Pre-processes COMPAS dataset:\n",
    "\n",
    "Download the COMPAS dataset from:\n",
    "https://github.com/propublica/compas-analysis/blob/master/compas-scores-two-years.csv\n",
    "and save it in the `./group_agnostic_fairness/data/compas` folder.\n",
    "\n",
    "Input: ./group_agnostic_fairness/data/compas/compas-scores-two-years.csv\n",
    "\n",
    "Outputs: train.csv, test.csv, mean_std.json, vocabulary.json, IPS_exampleweights_with_label.json, IPS_exampleweights_without_label.json"
   ]
  },
  {
   "cell_type": "code",
   "execution_count": 14,
   "metadata": {
    "colab": {},
    "colab_type": "code",
    "id": "oyFyRbFk7zox"
   },
   "outputs": [
    {
     "name": "stdout",
     "output_type": "stream",
     "text": [
      "/home/aderbique/git/google-research/group_agnostic_fairness/data_utils\n",
      "0\n"
     ]
    }
   ],
   "source": [
    "import os\n",
    "print(os.system(\"pwd\"))\n",
    "pd.options.display.float_format = '{:,.2f}'.format\n",
    "dataset_base_dir = '../../group_agnostic_fairness/data/compas/'\n",
    "dataset_file_name = 'compas-scores-two-years.csv'"
   ]
  },
  {
   "cell_type": "markdown",
   "metadata": {
    "colab_type": "text",
    "id": "PgWxzZeyKog3"
   },
   "source": [
    "### Processing original dataset"
   ]
  },
  {
   "cell_type": "code",
   "execution_count": 18,
   "metadata": {
    "colab": {},
    "colab_type": "code",
    "id": "kL3-NykBQhKz"
   },
   "outputs": [],
   "source": [
    "file_path = os.path.join(dataset_base_dir,dataset_file_name)\n",
    "with open(file_path, \"r\") as file_name:\n",
    "  temp_df = pd.read_csv(file_name)\n",
    "\n",
    "# Columns of interest\n",
    "columns = ['juv_fel_count', 'juv_misd_count', 'juv_other_count', 'priors_count',\n",
    "                'age', \n",
    "                'c_charge_degree', \n",
    "                'c_charge_desc',\n",
    "                'age_cat',\n",
    "                'sex', 'race',  'is_recid']\n",
    "target_variable = 'is_recid'\n",
    "target_value = 'Yes'\n",
    "\n",
    "# Drop duplicates\n",
    "temp_df = temp_df[['id']+columns].drop_duplicates()\n",
    "df = temp_df[columns].copy()\n",
    "\n",
    "# Convert columns of type ``object`` to ``category`` \n",
    "df = pd.concat([\n",
    "        df.select_dtypes(include=[], exclude=['object']),\n",
    "        df.select_dtypes(['object']).apply(pd.Series.astype, dtype='category')\n",
    "        ], axis=1).reindex(df.columns, axis=1)\n",
    "\n",
    "# Binarize target_variable\n",
    "df['is_recid'] = df.apply(lambda x: 'Yes' if x['is_recid']==1.0 else 'No', axis=1).astype('category')\n",
    "\n",
    "# Process protected-column values\n",
    "race_dict = {'African-American':'Black','Caucasian':'White'}\n",
    "df['race'] = df.apply(lambda x: race_dict[x['race']] if x['race'] in race_dict.keys() else 'Other', axis=1).astype('category')"
   ]
  },
  {
   "cell_type": "code",
   "execution_count": 19,
   "metadata": {
    "colab": {
     "height": 204
    },
    "colab_type": "code",
    "id": "XCClI7O8ZHTi",
    "outputId": "bb0568b5-1338-4286-9182-7f0ff23fc18c"
   },
   "outputs": [
    {
     "data": {
      "text/html": [
       "<div>\n",
       "<style scoped>\n",
       "    .dataframe tbody tr th:only-of-type {\n",
       "        vertical-align: middle;\n",
       "    }\n",
       "\n",
       "    .dataframe tbody tr th {\n",
       "        vertical-align: top;\n",
       "    }\n",
       "\n",
       "    .dataframe thead th {\n",
       "        text-align: right;\n",
       "    }\n",
       "</style>\n",
       "<table border=\"1\" class=\"dataframe\">\n",
       "  <thead>\n",
       "    <tr style=\"text-align: right;\">\n",
       "      <th></th>\n",
       "      <th>juv_fel_count</th>\n",
       "      <th>juv_misd_count</th>\n",
       "      <th>juv_other_count</th>\n",
       "      <th>priors_count</th>\n",
       "      <th>age</th>\n",
       "      <th>c_charge_degree</th>\n",
       "      <th>c_charge_desc</th>\n",
       "      <th>age_cat</th>\n",
       "      <th>sex</th>\n",
       "      <th>race</th>\n",
       "      <th>is_recid</th>\n",
       "    </tr>\n",
       "  </thead>\n",
       "  <tbody>\n",
       "    <tr>\n",
       "      <th>0</th>\n",
       "      <td>0</td>\n",
       "      <td>0</td>\n",
       "      <td>0</td>\n",
       "      <td>0</td>\n",
       "      <td>69</td>\n",
       "      <td>F</td>\n",
       "      <td>Aggravated Assault w/Firearm</td>\n",
       "      <td>Greater than 45</td>\n",
       "      <td>Male</td>\n",
       "      <td>Other</td>\n",
       "      <td>No</td>\n",
       "    </tr>\n",
       "    <tr>\n",
       "      <th>1</th>\n",
       "      <td>0</td>\n",
       "      <td>0</td>\n",
       "      <td>0</td>\n",
       "      <td>0</td>\n",
       "      <td>34</td>\n",
       "      <td>F</td>\n",
       "      <td>Felony Battery w/Prior Convict</td>\n",
       "      <td>25 - 45</td>\n",
       "      <td>Male</td>\n",
       "      <td>Black</td>\n",
       "      <td>Yes</td>\n",
       "    </tr>\n",
       "    <tr>\n",
       "      <th>2</th>\n",
       "      <td>0</td>\n",
       "      <td>0</td>\n",
       "      <td>1</td>\n",
       "      <td>4</td>\n",
       "      <td>24</td>\n",
       "      <td>F</td>\n",
       "      <td>Possession of Cocaine</td>\n",
       "      <td>Less than 25</td>\n",
       "      <td>Male</td>\n",
       "      <td>Black</td>\n",
       "      <td>Yes</td>\n",
       "    </tr>\n",
       "    <tr>\n",
       "      <th>3</th>\n",
       "      <td>0</td>\n",
       "      <td>1</td>\n",
       "      <td>0</td>\n",
       "      <td>1</td>\n",
       "      <td>23</td>\n",
       "      <td>F</td>\n",
       "      <td>Possession of Cannabis</td>\n",
       "      <td>Less than 25</td>\n",
       "      <td>Male</td>\n",
       "      <td>Black</td>\n",
       "      <td>No</td>\n",
       "    </tr>\n",
       "    <tr>\n",
       "      <th>4</th>\n",
       "      <td>0</td>\n",
       "      <td>0</td>\n",
       "      <td>0</td>\n",
       "      <td>2</td>\n",
       "      <td>43</td>\n",
       "      <td>F</td>\n",
       "      <td>arrest case no charge</td>\n",
       "      <td>25 - 45</td>\n",
       "      <td>Male</td>\n",
       "      <td>Other</td>\n",
       "      <td>No</td>\n",
       "    </tr>\n",
       "  </tbody>\n",
       "</table>\n",
       "</div>"
      ],
      "text/plain": [
       "   juv_fel_count  juv_misd_count  juv_other_count  priors_count  age  \\\n",
       "0              0               0                0             0   69   \n",
       "1              0               0                0             0   34   \n",
       "2              0               0                1             4   24   \n",
       "3              0               1                0             1   23   \n",
       "4              0               0                0             2   43   \n",
       "\n",
       "  c_charge_degree                   c_charge_desc          age_cat   sex  \\\n",
       "0               F    Aggravated Assault w/Firearm  Greater than 45  Male   \n",
       "1               F  Felony Battery w/Prior Convict          25 - 45  Male   \n",
       "2               F           Possession of Cocaine     Less than 25  Male   \n",
       "3               F          Possession of Cannabis     Less than 25  Male   \n",
       "4               F           arrest case no charge          25 - 45  Male   \n",
       "\n",
       "    race is_recid  \n",
       "0  Other       No  \n",
       "1  Black      Yes  \n",
       "2  Black      Yes  \n",
       "3  Black       No  \n",
       "4  Other       No  "
      ]
     },
     "execution_count": 19,
     "metadata": {},
     "output_type": "execute_result"
    }
   ],
   "source": [
    "df.head()"
   ]
  },
  {
   "cell_type": "markdown",
   "metadata": {
    "colab_type": "text",
    "id": "zKNj_ZV2K_09"
   },
   "source": [
    "### Shuffle and Split into Train (70%) and Test set (30%)"
   ]
  },
  {
   "cell_type": "code",
   "execution_count": 20,
   "metadata": {
    "colab": {},
    "colab_type": "code",
    "id": "0ZLM1kXLz3PI"
   },
   "outputs": [],
   "source": [
    "train_df, test_df = train_test_split(df, test_size=0.30, random_state=42)\n",
    "\n",
    "output_file_path = os.path.join(dataset_base_dir,'train.csv')\n",
    "with open(output_file_path, mode=\"w\") as output_file:\n",
    "    train_df.to_csv(output_file,index=False,columns=columns,header=False)\n",
    "    output_file.close()\n",
    "\n",
    "output_file_path = os.path.join(dataset_base_dir,'test.csv')\n",
    "with open(output_file_path, mode=\"w\") as output_file:\n",
    "    test_df.to_csv(output_file,index=False,columns=columns,header=False)\n",
    "    output_file.close()"
   ]
  },
  {
   "cell_type": "markdown",
   "metadata": {
    "colab_type": "text",
    "id": "1VQE85STLL46"
   },
   "source": [
    "### Computing Invese propensity weights for each subgroup, and writes to directory.\n",
    "\n",
    "IPS_example_weights_with_label.json: json dictionary of the format\n",
    "        {subgroup_id : inverse_propensity_score,...}. Used by IPS_reweighting_model approach."
   ]
  },
  {
   "cell_type": "code",
   "execution_count": 21,
   "metadata": {
    "colab": {
     "height": 34
    },
    "colab_type": "code",
    "id": "2fkieHul02TL",
    "outputId": "9aa901d9-b832-4b89-edab-e3521d5c7217"
   },
   "outputs": [
    {
     "name": "stdout",
     "output_type": "stream",
     "text": [
      "{0: 2.595886889460154, 1: 9.709615384615384, 2: 2.3974358974358974, 3: 10.56276150627615}\n"
     ]
    }
   ],
   "source": [
    "IPS_example_weights_without_label = {\n",
    "  0: (len(train_df))/(len(train_df[(train_df.race != 'Black') & (train_df.sex != 'Female')])), # 00: White Male\n",
    "  1: (len(train_df))/(len(train_df[(train_df.race != 'Black') & (train_df.sex == 'Female')])), # 01: White Female\n",
    "  2: (len(train_df))/(len(train_df[(train_df.race == 'Black') & (train_df.sex != 'Female')])), # 10: Black Male\n",
    "  3: (len(train_df))/(len(train_df[(train_df.race == 'Black') & (train_df.sex == 'Female')]))  # 11: Black Female\n",
    "}\n",
    "  \n",
    "output_file_path = os.path.join(dataset_base_dir,'IPS_example_weights_without_label.json')\n",
    "with open(output_file_path, mode=\"w\") as output_file:\n",
    "    output_file.write(json.dumps(IPS_example_weights_without_label))\n",
    "    output_file.close()\n",
    "\n",
    "print(IPS_example_weights_without_label)"
   ]
  },
  {
   "cell_type": "code",
   "execution_count": 22,
   "metadata": {
    "colab": {
     "height": 34
    },
    "colab_type": "code",
    "id": "Dm15uo-R0-LB",
    "outputId": "2619a7d0-d079-43c9-cee6-d9eeb3ad4ce4"
   },
   "outputs": [
    {
     "name": "stdout",
     "output_type": "stream",
     "text": [
      "{0: 4.598360655737705, 1: 15.162162162162161, 2: 5.744027303754266, 3: 18.03214285714286, 4: 5.961038961038961, 5: 27.0, 6: 4.114914425427873, 7: 25.5}\n"
     ]
    }
   ],
   "source": [
    "IPS_example_weights_with_label = {\n",
    "0: (len(train_df))/(len(train_df[(train_df[target_variable] != target_value) & (train_df.race != 'Black') & (train_df.sex != 'Female')])), # 000: Negative White Male\n",
    "1: (len(train_df))/(len(train_df[(train_df[target_variable] != target_value) & (train_df.race != 'Black') & (train_df.sex == 'Female')])), # 001: Negative White Female\n",
    "2: (len(train_df))/(len(train_df[(train_df[target_variable] != target_value) & (train_df.race == 'Black') & (train_df.sex != 'Female')])), # 010: Negative Black Male\n",
    "3: (len(train_df))/(len(train_df[(train_df[target_variable] != target_value) & (train_df.race == 'Black') & (train_df.sex == 'Female')])), # 011: Negative Black Female\n",
    "4: (len(train_df))/(len(train_df[(train_df[target_variable] == target_value) & (train_df.race != 'Black') & (train_df.sex != 'Female')])), # 100: Positive White Male\n",
    "5: (len(train_df))/(len(train_df[(train_df[target_variable] == target_value) & (train_df.race != 'Black') & (train_df.sex == 'Female')])), # 101: Positive White Female\n",
    "6: (len(train_df))/(len(train_df[(train_df[target_variable] == target_value) & (train_df.race == 'Black') & (train_df.sex != 'Female')])), # 110: Positive Black Male\n",
    "7: (len(train_df))/(len(train_df[(train_df[target_variable] == target_value) & (train_df.race == 'Black') & (train_df.sex == 'Female')])), # 111: Positive Black Female\n",
    "}\n",
    "  \n",
    "output_file_path = os.path.join(dataset_base_dir,'IPS_example_weights_with_label.json')\n",
    "with open(output_file_path, mode=\"w\") as output_file:\n",
    "    output_file.write(json.dumps(IPS_example_weights_with_label))\n",
    "    output_file.close()\n",
    "\n",
    "print(IPS_example_weights_with_label)"
   ]
  },
  {
   "cell_type": "markdown",
   "metadata": {
    "colab_type": "text",
    "id": "8SQc7h9HLcSc"
   },
   "source": [
    "### Construct vocabulary.json, and write to directory.\n",
    "\n",
    "vocabulary.json: json dictionary of the format {feature_name:      [feature_vocabulary]}, containing vocabulary for categorical features."
   ]
  },
  {
   "cell_type": "code",
   "execution_count": 23,
   "metadata": {
    "colab": {
     "height": 54
    },
    "colab_type": "code",
    "id": "YIebJG2YfMpv",
    "outputId": "2a03258b-c31e-47ce-a282-4f4168f8ca65"
   },
   "outputs": [
    {
     "name": "stdout",
     "output_type": "stream",
     "text": [
      "{'c_charge_degree': ['M', 'F'], 'c_charge_desc': ['Sexual Performance by a Child', 'Unlawful Use Of Police Badges', 'Trespass Property w/Dang Weap', 'Extradition/Defendants', 'Poss/Sell/Del/Man Amobarbital', 'Robbery / No Weapon', 'Traffick Amphetamine 28g><200g', 'Aggravated Battery On 65/Older', 'Culpable Negligence', 'Cause Anoth Phone Ring Repeat', 'Prostitution/Lewdness/Assign', 'Grand Theft in the 1st Degree', 'Attempt Burglary (Struct)', 'Solic to Commit Battery', 'Possession Of Diazepam', 'Failure To Return Hired Vehicle', 'Use Scanning Device to Defraud', 'Sell Conterfeit Cont Substance', 'Poss Meth/Diox/Meth/Amp (MDMA)', 'Manage Busn W/O City Occup Lic', 'Possession Of Fentanyl', 'Crimin Mischief Damage $1000+', 'Threat Public Servant', 'Felony Battery', 'Del Cannabis At/Near Park', 'Armed Trafficking in Cannabis', 'Crim Attempt/Solicit/Consp', 'Aggress/Panhandle/Beg/Solict', 'Possession of Morphine', 'Deliver Cocaine', 'Attempted Burg/Convey/Unocc', 'Present Proof of Invalid Insur', 'Poss Drugs W/O A Prescription', 'Stalking (Aggravated)', 'Battery on Law Enforc Officer', 'Intoxicated/Safety Of Another', 'Traffic Counterfeit Cred Cards', 'Poss Oxycodone W/Int/Sell/Del', 'Manslaughter W/Weapon/Firearm', 'False Bomb Report', 'Burglary Structure Unoccup', 'Attempted Robbery  No Weapon', 'Battery On Fire Fighter', 'License Suspended Revoked', 'Poss Cntrft Contr Sub w/Intent', 'Petit Theft', 'Deliver Cocaine 1000FT Store', 'Aiding Escape', 'Gambling/Gamb Paraphernalia', 'Consume Alcoholic Bev Pub', 'Poss Of Controlled Substance', 'Child Abuse', 'Principal In The First Degree', 'Agg Fleeing and Eluding', 'Flee/Elude LEO-Agg Flee Unsafe', 'Criminal Attempt 3rd Deg Felon', 'Shoot Into Vehicle', 'Cash Item w/Intent to Defraud', 'Burglary Dwelling Assault/Batt', 'Murder In 2nd Degree W/firearm', 'Lewd/Lasciv Molest Elder Persn', 'Aggravated Assault w/Firearm', 'Aggrav Child Abuse-Causes Harm', 'Lve/Scen/Acc/Veh/Prop/Damage', 'Conspiracy to Deliver Cocaine', 'Battery On A Person Over 65', 'Tamper With Witness/Victim/CI', 'Crlty Twrd Child Urge Oth Act', 'Felony Committing Prostitution', 'Exploit Elderly Person 20-100K', 'Lewd/Lasc Exhib Presence <16yr', 'Trespass On School Grounds', 'Simulation of Legal Process', 'Restraining Order Dating Viol', 'Viol Injunct Domestic Violence', 'Disrupting School Function', 'Unl/Disturb Education/Instui', 'Fail To Redeliv Hire/Leas Prop', 'Pos Methylenedioxymethcath W/I/D/S', 'Shoot In Occupied Dwell', 'Trans/Harm/Material to a Minor', 'Sell Cannabis', 'Felony Battery w/Prior Convict', 'Burglary Structure Occupied', 'Del Cannabis For Consideration', 'Possession of LSD', 'Poss Of RX Without RX', 'Structuring Transactions', 'Discharge Firearm From Vehicle', 'Unauth Poss ID Card or DL', 'Possession of Benzylpiperazine', 'Poss of Vessel w/Altered ID NO', 'Possession Of Cocaine', 'Manufacture Cannabis', 'Deliver Cocaine 1000FT Church', 'Throw Deadly Missile Into Veh', 'Felony/Driving Under Influence', 'Possession of Methadone', 'Dealing In Stolen Property', 'Unauth C/P/S Sounds>1000/Audio', 'Littering', 'Possession Of 3,4Methylenediox', 'Leaving the Scene of Accident', 'Trespass Struct/Convey Occupy', 'Traffick Oxycodone     4g><14g', 'Opert With Susp DL 2nd Offens', 'Trespass Private Property', 'Assault', 'Poss Pyrrolidinovalerophenone W/I/D/S', 'Use Of 2 Way Device To Fac Fel', 'Felony Batt(Great Bodily Harm)', 'Possess Tobacco Product Under 18', 'Poss Cocaine/Intent To Del/Sel', 'Violation of Injunction Order/Stalking/Cyberstalking', 'Del Morphine at/near Park', 'Disorderly Intoxication', 'Disorderly Conduct', 'Contradict Statement', 'Viol Injunction Protect Dom Vi', 'Solicit Deliver Cocaine', 'Retail Theft $300 1st Offense', 'Aggravated Assault W/o Firearm', 'Issuing a Worthless Draft', 'Fail Register Career Offender', 'Violation License Restrictions', 'Murder in 2nd Degree', 'Del of JWH-250 2-Methox 1-Pentyl', 'Possession Of Amphetamine', 'Fleeing or Eluding a LEO', 'Battery on a Person Over 65', 'D.U.I. Serious Bodily Injury', 'Grand Theft on 65 Yr or Older', 'Contribute Delinquency Of A Minor', 'Criminal Mischief Damage <$200', 'Att Tamper w/Physical Evidence', 'Accessory After the Fact', 'Harass Witness/Victm/Informnt', 'Prostitution', 'Possession Firearm School Prop', 'Driving License Suspended', 'Deliver Cannabis', 'False Imprisonment', 'Kidnapping / Domestic Violence', 'Obtain Control Substance By Fraud', 'Purchase/P/W/Int Cannabis', 'Abuse Without Great Harm', 'Poss Unlaw Issue Id', 'Fighting/Baiting Animals', 'Possession of Codeine', 'Possession Of Heroin', 'Video Voyeur-<24Y on Child >16', 'DWI w/Inj Susp Lic / Habit Off', 'Fail To Obey Police Officer', 'Depriv LEO of Protect/Communic', 'DUI/Property Damage/Persnl Inj', 'Deliver 3,4 Methylenediox', 'Possession of Ethylone', 'Poss Pyrrolidinobutiophenone', 'Att Burgl Unoccupied Dwel', 'Unlicensed Telemarketing', 'Neglect Child / Bodily Harm', 'Possess Weapon On School Prop', 'Burglary Conveyance Unoccup', 'Battery Spouse Or Girlfriend', 'Uttering Forged Bills', 'Burglary Dwelling Occupied', 'Robbery W/Deadly Weapon', 'Uttering Forged Credit Card', 'Attempted Robbery Firearm', 'Sel/Pur/Mfr/Del Control Substa', 'Robbery W/Firearm', 'Lewd or Lascivious Molestation', 'Poss Anti-Shoplifting Device', 'Unlawful Conveyance of Fuel', 'DUI - Enhanced', 'Attempted Burg/struct/unocc', 'Unlaw Use False Name/Identity', 'Petit Theft $100- $300', 'arrest case no charge', 'Deliver Cannabis 1000FTSch', 'Deliver Alprazolam', 'Offer Agree Secure For Lewd Act', 'Agg Abuse Elderlly/Disabled Adult', 'Possess Cannabis/20 Grams Or Less', 'Susp Drivers Lic 1st Offense', 'Reckless Driving', 'Poss/pur/sell/deliver Cocaine', 'Agg Assault Law Enforc Officer', 'Theft/To Deprive', 'Poss Similitude of Drivers Lic', 'Tamper With Victim', 'Poss3,4 Methylenedioxymethcath', 'PL/Unlaw Use Credit Card', 'Possession of Butylone', 'Drivg While Lic Suspd/Revk/Can', 'Burglary Assault/Battery Armed', 'Exposes Culpable Negligence', 'Poss 3,4 MDMA (Ecstasy)', 'Carjacking w/o Deadly Weapon', 'Del 3,4 Methylenedioxymethcath', 'False 911 Call', 'Compulsory Sch Attnd Violation', 'Strong Armed  Robbery', 'Crim Use of Personal ID Info', 'Burglary Conveyance Armed', 'Possess Drug Paraphernalia', 'Stalking', 'Leaving Acc/Unattended Veh', 'Battery Emergency Care Provide', 'Computer Pornography', 'Att Burgl Struc/Conv Dwel/Occp', 'Unlaw LicTag/Sticker Attach', 'Possession Of Buprenorphine', 'Counterfeit Lic Plates/Sticker', 'Poss/Sell/Del Cocaine 1000FT Sch', 'Possession of Cocaine', 'Fabricating Physical Evidence', 'Traffick Hydrocodone   4g><14g', 'Use Computer for Child Exploit', 'Insurance Fraud', 'Tresspass Struct/Conveyance', 'Possession Of Paraphernalia', 'Carjacking with a Firearm', 'Retail Theft $300 2nd Offense', 'Trespass Struct/Conveyance', 'Carrying Concealed Firearm', 'Sound Articles Over 100', 'Burglary Conveyance Occupied', 'Criminal Mischief', 'Uttering a Forged Instrument', 'Poss Tetrahydrocannabinols', 'DUI- Enhanced', 'DWLS Susp/Cancel Revoked', 'Possession Burglary Tools', 'Felony Driving While Lic Suspd', 'Burglary Dwelling Armed', 'Murder in the First Degree', 'Voyeurism', 'Aggrav Child Abuse-Agg Battery', 'Possession Of Carisoprodol', 'Crim Use Of Personal Id Info', 'Possession of Hydrocodone', 'Battery On Parking Enfor Speci', 'Money Launder 100K or More Dols', 'Possess Countrfeit Credit Card', 'DOC/Cause Public Danger', 'Misuse Of 911 Or E911 System', 'Fail To Redeliver Hire Prop', 'Burglary Conveyance Assault/Bat', 'Violation Of Boater Safety Id', 'Felon in Pos of Firearm or Amm', 'Aggrav Stalking After Injunctn', 'Poss Pyrrolidinovalerophenone', 'Introduce Contraband Into Jail', 'Attempted Deliv Control Subst', 'Aggravated Battery (Firearm/Actual Possession)', 'Traff In Cocaine <400g>150 Kil', 'Unauthorized Interf w/Railroad', 'Sell or Offer for Sale Counterfeit Goods', 'Aggr Child Abuse-Torture,Punish', 'Burglary Structure Assault/Batt', 'Possession Of Alprazolam', 'Obstruct Officer W/Violence', 'Robbery Sudd Snatch No Weapon', 'Felony Petit Theft', 'Leave Accd/Attend Veh/Less $50', 'Trespass Structure w/Dang Weap', 'Arson II (Vehicle)', 'Possess Mot Veh W/Alt Vin #', 'Crim Attempt/Solic/Consp', 'Interference with Custody', 'Grand Theft (Motor Vehicle)', 'Sale/Del Cannabis At/Near Scho', 'Poss Wep Conv Felon', 'Tampering with a Victim', 'Compulsory Attendance Violation', 'Possession Of Anabolic Steroid', 'Sex Batt Faml/Cust Vict 12-17Y', 'Imperson Public Officer or Emplyee', 'Exhibition Weapon School Prop', 'Prowling/Loitering', 'Refuse Submit Blood/Breath Test', 'DUI - Property Damage/Personal Injury', 'Sale/Del Counterfeit Cont Subs', 'Grand Theft In The 3Rd Degree', 'Bribery Athletic Contests', 'DUI Level 0.15 Or Minor In Veh', 'Harm Public Servant Or Family', 'Resist Officer w/Violence', 'Poss/Sell/Deliver Clonazepam', 'Dealing in Stolen Property', 'Arson in the First Degree', 'Alcoholic Beverage Violation-FL', 'Fail Sex Offend Report Bylaw', 'Defrauding Innkeeper', 'Trespass Structure/Conveyance', 'Forging Bank Bills/Promis Note', 'Pos Cannabis W/Intent Sel/Del', 'Corrupt Public Servant', 'Possession Of Methamphetamine', 'Consp Traff Oxycodone 28g><30k', 'Leave Acc/Attend Veh/More $50', 'Possession of Alcohol Under 21', 'Deliver Cocaine 1000FT School', 'Grand Theft Dwell Property', 'Lease For Purpose Trafficking', 'Tresspass in Structure or Conveyance', 'False Ownership Info/Pawn Item', 'Fel Drive License Perm Revoke', 'DWLS Canceled Disqul 1st Off', 'Poss Of 1,4-Butanediol', 'Lewdness Violation', 'Purchase Of Cocaine', 'Aggrav Battery w/Deadly Weapon', 'Sex Offender Fail Comply W/Law', 'Possession of XLR11', 'Falsely Impersonating Officer', 'Operating W/O Valid License', 'Viol Prot Injunc Repeat Viol', 'Aide/Abet Prostitution Lewdness', 'Poss of Cocaine W/I/D/S 1000FT Park', 'Battery', 'Delivery of Heroin', 'Attempted Robbery  Weapon', 'Attempt Armed Burglary Dwell', 'Possession of Hydromorphone', 'Tamper With Witness', 'DUI Property Damage/Injury', 'Use of Anti-Shoplifting Device', 'Poss Contr Subst W/o Prescript', 'Fail To Secure Load', 'Fraudulent Use of Credit Card', 'False Name By Person Arrest', 'Unemployment Compensatn Fraud', 'Fail Obey Driv Lic Restrictions', 'Sell/Man/Del Pos/w/int Heroin', 'Poss of Methylethcathinone', 'Burglary Unoccupied Dwelling', 'Sex Battery Deft 18+/Vict 11-', 'Posses/Disply Susp/Revk/Frd DL', 'Possession Of Phentermine', 'Defrauding Innkeeper $300/More', 'Poss Trifluoromethylphenylpipe', 'Tampering With Physical Evidence', 'Throw Missile Into Pub/Priv Dw', 'Throw In Occupied Dwell', 'Aggravated Battery / Pregnant', 'Aggravated Battery', 'Neglect Child / No Bodily Harm', 'Possession Of Lorazepam', 'Possess Cannabis 1000FTSch', 'Possess w/I/Utter Forged Bills', 'Felony Battery (Dom Strang)', 'Offn Against Intellectual Prop', 'Trespass Other Struct/Conve', 'Escape', 'Aggravated Assault W/dead Weap', 'Theft', 'Aggravated Assault W/Dead Weap', 'Assault Law Enforcement Officer', 'False Motor Veh Insurance Card', 'Delivery of 5-Fluoro PB-22', 'Possession of Oxycodone', 'Purchasing Of Alprazolam', 'Possess Controlled Substance', 'Driving Under The Influence', 'Expired DL More Than 6 Months', 'Solicitation On Felony 3 Deg', 'Purchase Cannabis', 'Burglary With Assault/battery', 'Hiring with Intent to Defraud', 'Lewd Act Presence Child 16-', 'Sexual Battery / Vict 12 Yrs +', 'Aggravated Assault', 'Agg Fleeing/Eluding High Speed', 'Obstruct Fire Equipment', 'Offer Agree Secure/Lewd Act', 'Agg Battery Grt/Bod/Harm', 'Grand Theft (motor Vehicle)', 'Burgl Dwel/Struct/Convey Armed', 'Criminal Mischief>$200<$1000', 'Robbery / Weapon', 'Poss Counterfeit Payment Inst', 'Fraud Obtain Food or Lodging', 'Live on Earnings of Prostitute', 'Att Burgl Conv Occp', 'Interfere W/Traf Cont Dev RR', 'Grand Theft of the 2nd Degree', 'Ride Tri-Rail Without Paying', 'Consp Traff Oxycodone  4g><14g', 'Trespassing/Construction Site', 'Cruelty Toward Child', 'Cruelty to Animals', 'Possess/Use Weapon 1 Deg Felon', 'False Info LEO During Invest', 'Giving False Crime Report', 'Resist/Obstruct W/O Violence', 'Possession of Cannabis', 'Prostitution/Lewd Act Assignation', 'Felony DUI (level 3)', 'Aggravated Battery (Firearm)', 'Fail Register Vehicle', 'Fleeing Or Attmp Eluding A Leo', 'Pos Cannabis For Consideration', 'Poss of Firearm by Convic Felo', 'Carrying A Concealed Weapon', 'Sel Etc/Pos/w/Int Contrft Schd', 'Unlaw Lic Use/Disply Of Others', 'Refuse to Supply DNA Sample', 'Poss Unlaw Issue Driver Licenc', 'Neglect/Abuse Elderly Person', 'Conspiracy Dealing Stolen Prop', 'DUI Blood Alcohol Above 0.20', 'Grand Theft in the 3rd Degree', 'Deliver Cocaine 1000FT Park', 'Grand Theft of a Fire Extinquisher', 'Failure To Pay Taxi Cab Charge', 'Solicit To Deliver Cocaine', 'Poss Firearm W/Altered ID#', 'Viol Pretrial Release Dom Viol', 'Poss Alprazolam W/int Sell/Del', 'Opert With Susp DL 2ND Offense', 'Felony DUI - Enhanced', 'Soliciting For Prostitution', 'Driving While License Revoked', 'Possession Child Pornography', 'Possession Of Clonazepam', 'Open Carrying Of Weapon', 'Lewd/Lasc Battery Pers 12+/<16', 'Poss F/Arm Delinq', 'Delivery Of Drug Paraphernalia', 'Agg Assault W/int Com Fel Dome', 'Carry Open/Uncov Bev In Pub', 'Oper Motorcycle W/O Valid DL', 'Solicit Purchase Cocaine', 'Uttering Worthless Check +$150', 'Grand Theft Firearm'], 'age_cat': ['Less than 25', '25 - 45', 'Greater than 45'], 'sex': ['Male', 'Female'], 'race': ['Black', 'White', 'Other'], 'is_recid': ['No', 'Yes']}\n"
     ]
    }
   ],
   "source": [
    "cat_cols = train_df.select_dtypes(include='category').columns\n",
    "vocab_dict = {}\n",
    "for col in cat_cols:\n",
    "  vocab_dict[col] = list(set(train_df[col].cat.categories))\n",
    "  \n",
    "output_file_path = os.path.join(dataset_base_dir,'vocabulary.json')\n",
    "with open(output_file_path, mode=\"w\") as output_file:\n",
    "    output_file.write(json.dumps(vocab_dict))\n",
    "    output_file.close()\n",
    "print(vocab_dict)"
   ]
  },
  {
   "cell_type": "markdown",
   "metadata": {
    "colab_type": "text",
    "id": "V9cxiG9SLfk6"
   },
   "source": [
    "### Construct mean_std.json, and write to directory\n",
    "\n",
    "mean_std.json: json dictionary of the format feature_name: [mean, std]},\n",
    "containing mean and std for numerical features. "
   ]
  },
  {
   "cell_type": "code",
   "execution_count": 24,
   "metadata": {
    "colab": {
     "height": 54
    },
    "colab_type": "code",
    "id": "EjZvIZC6FMFm",
    "outputId": "d9ae1abd-d18f-486b-f067-c657b1420d97"
   },
   "outputs": [
    {
     "name": "stdout",
     "output_type": "stream",
     "text": [
      "{'juv_fel_count': [0.06971677559912855, 0.5014755752507987], 'juv_misd_count': [0.09368191721132897, 0.5172707491859172], 'juv_other_count': [0.10556545850663497, 0.4686557323312097], 'priors_count': [3.5094078035254506, 4.951584194970699], 'age': [34.93761140819964, 11.925808583868745]}\n"
     ]
    }
   ],
   "source": [
    "temp_dict = train_df.describe().to_dict()\n",
    "mean_std_dict = {}\n",
    "for key, value in temp_dict.items():\n",
    "  mean_std_dict[key] = [value['mean'],value['std']]\n",
    "\n",
    "output_file_path = os.path.join(dataset_base_dir,'mean_std.json')\n",
    "with open(output_file_path, mode=\"w\") as output_file:\n",
    "    output_file.write(json.dumps(mean_std_dict))\n",
    "    output_file.close()\n",
    "print(mean_std_dict)"
   ]
  },
  {
   "cell_type": "code",
   "execution_count": null,
   "metadata": {},
   "outputs": [],
   "source": []
  },
  {
   "cell_type": "code",
   "execution_count": null,
   "metadata": {},
   "outputs": [],
   "source": []
  }
 ],
 "metadata": {
  "colab": {
   "collapsed_sections": [],
   "name": "CreateCompasDatasetFiles.ipynb",
   "provenance": []
  },
  "kernelspec": {
   "display_name": "Python 3 (ipykernel)",
   "language": "python",
   "name": "python3"
  },
  "language_info": {
   "codemirror_mode": {
    "name": "ipython",
    "version": 3
   },
   "file_extension": ".py",
   "mimetype": "text/x-python",
   "name": "python",
   "nbconvert_exporter": "python",
   "pygments_lexer": "ipython3",
   "version": "3.9.7"
  }
 },
 "nbformat": 4,
 "nbformat_minor": 4
}
